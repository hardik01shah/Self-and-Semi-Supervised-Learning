{
  "nbformat": 4,
  "nbformat_minor": 0,
  "metadata": {
    "colab": {
      "name": "PseudoLabelling_DL.ipynb",
      "provenance": [],
      "collapsed_sections": [
        "I9-0nQIMdZM1"
      ],
      "include_colab_link": true
    },
    "kernelspec": {
      "name": "python3",
      "display_name": "Python 3"
    },
    "language_info": {
      "name": "python"
    }
  },
  "cells": [
    {
      "cell_type": "markdown",
      "metadata": {
        "id": "view-in-github",
        "colab_type": "text"
      },
      "source": [
        "<a href=\"https://colab.research.google.com/github/hrishi508/Self-and-Semi-Supervised-Learning/blob/main/Pseudo_Labelling.ipynb\" target=\"_parent\"><img src=\"https://colab.research.google.com/assets/colab-badge.svg\" alt=\"Open In Colab\"/></a>"
      ]
    },
    {
      "cell_type": "markdown",
      "metadata": {
        "id": "sofe8YH8BOEN"
      },
      "source": [
        "## Imports"
      ]
    },
    {
      "cell_type": "code",
      "metadata": {
        "id": "KyagcRRwMeo5"
      },
      "source": [
        "import torch\n",
        "import torch.nn as nn\n",
        "import torch.nn.functional as F\n",
        "from torchvision import datasets\n",
        "from torch.autograd import Variable\n",
        "from torch.utils.data import Dataset\n",
        "from torch.utils.data import DataLoader\n",
        "from torchvision.transforms import ToTensor\n",
        "import torchvision.transforms as transforms\n",
        "# from torchviz import make_dot\n",
        "\n",
        "import time\n",
        "import numpy as np\n",
        "import pandas as pd\n",
        "from tqdm import tqdm_notebook\n",
        "import matplotlib.pyplot as plt\n",
        "from sklearn.manifold import TSNE\n",
        "from sklearn.decomposition import PCA\n",
        "from sklearn.preprocessing import StandardScaler"
      ],
      "execution_count": 1,
      "outputs": []
    },
    {
      "cell_type": "code",
      "metadata": {
        "colab": {
          "base_uri": "https://localhost:8080/"
        },
        "id": "DMyDn3HSLhq9",
        "outputId": "fe631cae-84da-48ed-905d-a0ba9ad71084"
      },
      "source": [
        "from google.colab import drive\n",
        "drive.mount('/content/drive')\n",
        "\n",
        "%cd /content/drive/MyDrive"
      ],
      "execution_count": 2,
      "outputs": [
        {
          "output_type": "stream",
          "name": "stdout",
          "text": [
            "Mounted at /content/drive\n",
            "/content/drive/MyDrive\n"
          ]
        }
      ]
    },
    {
      "cell_type": "code",
      "source": [
        "device = 'cuda' if torch.cuda.is_available() else 'cpu'\n",
        "device"
      ],
      "metadata": {
        "id": "1_a4y6W_bmJ3",
        "outputId": "6216d3c2-2b2a-40f9-9f99-95dae301a15e",
        "colab": {
          "base_uri": "https://localhost:8080/",
          "height": 0
        }
      },
      "execution_count": 3,
      "outputs": [
        {
          "output_type": "execute_result",
          "data": {
            "application/vnd.google.colaboratory.intrinsic+json": {
              "type": "string"
            },
            "text/plain": [
              "'cpu'"
            ]
          },
          "metadata": {},
          "execution_count": 3
        }
      ]
    },
    {
      "cell_type": "markdown",
      "metadata": {
        "id": "Ty1XcIxvBShg"
      },
      "source": [
        "## Data Preparation\n",
        "\n",
        "Here, we are extracting 500 labelled images from the the training set for the self-supervised learning. Using labelled data sounds counter-intuitive but we are not using the labels in the training of the network, we are only using them for the TSNE visualization of the embedding vectors after every epoch."
      ]
    },
    {
      "cell_type": "code",
      "metadata": {
        "id": "zYLWrg3vOr87"
      },
      "source": [
        "transform = transforms.Compose([\n",
        "    transforms.ToTensor(),    \n",
        "    transforms.Normalize([0.485, 0.456, 0.406], [0.229, 0.224, 0.225]),   \n",
        "    \n",
        "])\n",
        "\n",
        "training_data = datasets.STL10(\n",
        "    root=\"data\",\n",
        "    split=\"train\",\n",
        "    transform=transform,\n",
        "    download=False\n",
        ")\n",
        "\n",
        "test_data = datasets.STL10(\n",
        "    root=\"data\",\n",
        "    split='test',\n",
        "    transform=transform,\n",
        "    download=False\n",
        ")\n",
        "\n",
        "unlabelled = datasets.STL10(\n",
        "    root=\"data\",\n",
        "    split=\"unlabeled\",\n",
        "    transform=transform,\n",
        "    download=False\n",
        ")"
      ],
      "execution_count": 4,
      "outputs": []
    },
    {
      "cell_type": "code",
      "metadata": {
        "id": "G1Ma9i5_SvAa"
      },
      "source": [
        "unlabeled_20000, _ = torch.utils.data.random_split(unlabelled, [20000, 80000])"
      ],
      "execution_count": 5,
      "outputs": []
    },
    {
      "cell_type": "code",
      "metadata": {
        "id": "mMsoyhwD-t5q"
      },
      "source": [
        "def imshow(imgt):\n",
        "    img = imgt.clone()\n",
        "    t1 = torch.tensor([0.485, 0.456, 0.406])\n",
        "    t2 = torch.tensor([0.229, 0.224, 0.225])\n",
        "    img[0]*=t2[0]\n",
        "    img[1]*=t2[1]\n",
        "    img[2]*=t2[2]\n",
        "\n",
        "    img[0]+=t1[0]\n",
        "    img[1]+=t1[1]\n",
        "    img[2]+=t1[2]\n",
        "\n",
        "    npimg = img.numpy()\n",
        "    plt.imshow(np.transpose(npimg, (1, 2, 0)))\n",
        "    plt.show()"
      ],
      "execution_count": 6,
      "outputs": []
    },
    {
      "cell_type": "code",
      "metadata": {
        "id": "xs0BekaJRcdT"
      },
      "source": [
        "labels_map = {\n",
        "    0: \"airplane\",\n",
        "    1: \"bird\",\n",
        "    2: \"car\",\n",
        "    3: \"cat\",\n",
        "    4: \"deer\",\n",
        "    5: \"dog\",\n",
        "    6: \"horse\",\n",
        "    7: \"monkey\",\n",
        "    8: \"ship\",\n",
        "    9: \"truck\",\n",
        "}\n",
        "img, label = training_data[155]\n",
        "print(labels_map[label])\n",
        "print(img.shape)\n",
        "imshow(img)"
      ],
      "execution_count": null,
      "outputs": []
    },
    {
      "cell_type": "code",
      "metadata": {
        "id": "K8RFr0npDgTq"
      },
      "source": [
        "## HYPERPARAMETERS\n",
        "BATCH_SIZE = 64  #64\n",
        "LR = 0.001      #0.001\n",
        "EPOCHS = 100\n",
        "\n",
        "labeled_dataloader = DataLoader(training_data, batch_size=BATCH_SIZE, shuffle=True)\n",
        "unlabeled_dataloader = DataLoader(unlabeled_20000, batch_size=BATCH_SIZE, shuffle=True)\n",
        "test_dataloader = DataLoader(test_data, batch_size=BATCH_SIZE, shuffle=True)"
      ],
      "execution_count": 8,
      "outputs": []
    },
    {
      "cell_type": "code",
      "metadata": {
        "id": "TFrlZqG3UgIv"
      },
      "source": [
        "train_features, train_labels = next(iter(labeled_dataloader))\n",
        "# tf = train_features.unsqueeze(0)\n",
        "# print(tf.shape)\n",
        "# print(train_labels)\n",
        "img = train_features[0]\n",
        "imshow(img)"
      ],
      "execution_count": null,
      "outputs": []
    },
    {
      "cell_type": "markdown",
      "metadata": {
        "id": "2oQIBiBhMaGm"
      },
      "source": [
        "# Train and Test functions"
      ]
    },
    {
      "cell_type": "code",
      "source": [
        "T1 = 100\n",
        "T2 = 300\n",
        "af = 3"
      ],
      "metadata": {
        "id": "gbf2K1Aw4CEI"
      },
      "execution_count": 11,
      "outputs": []
    },
    {
      "cell_type": "code",
      "source": [
        "def alpha_weight(step):\n",
        "    if step < T1:\n",
        "        return 0.0\n",
        "    elif step > T2:\n",
        "        return af\n",
        "    else:\n",
        "         return ((step-T1) / (T2-T1))*af"
      ],
      "metadata": {
        "id": "N4LG9ROz4AgE"
      },
      "execution_count": 12,
      "outputs": []
    },
    {
      "cell_type": "code",
      "source": [
        "def test(model):\n",
        "  corrects = 0\n",
        "  total = 0\n",
        "\n",
        "  for X,y in test_dataloader:\n",
        "      X = X.to(device)\n",
        "      y = y.to(device)\n",
        "      y_pred = model(X)\n",
        "      _, predicted = torch.max(y_pred.data, 1)\n",
        "      total += y.size(0)\n",
        "      corrects += (predicted == y).sum().item()\n",
        "\n",
        "  print(f\"Accuracy of the model : {(float(corrects)/total)*100}%\")"
      ],
      "metadata": {
        "id": "BME8laauSAGR"
      },
      "execution_count": 13,
      "outputs": []
    },
    {
      "cell_type": "code",
      "source": [
        "def semisup_train(model, train_dataloader, unlabeled_loader, criterion, optimizer, num_epochs=100):\n",
        "    \n",
        "    # Instead of using current epoch we use a \"step\" variable to calculate alpha_weight\n",
        "    # This helps the model converge faster\n",
        "    step = 100 \n",
        "    model.to(device)\n",
        "    model.train()\n",
        "    for epoch in tqdm_notebook(range(num_epochs)):\n",
        "        loss = 0\n",
        "        for batch_idx, x_unlabeled in enumerate(unlabeled_loader):\n",
        "            \n",
        "            \n",
        "            # Forward Pass to get the pseudo labels\n",
        "            x_unlabeled, _ = x_unlabeled\n",
        "            x_unlabeled = x_unlabeled.to(device)\n",
        "            model.eval()\n",
        "            output_unlabeled = model(x_unlabeled)\n",
        "            _, pseudo_labeled = torch.max(output_unlabeled, 1)\n",
        "            model.train()          \n",
        "           \n",
        "            # Now calculate the unlabeled loss using the pseudo label\n",
        "            output = model(x_unlabeled)\n",
        "            unlabeled_loss = alpha_weight(step) * criterion(output, pseudo_labeled)   \n",
        "            loss += unlabeled_loss\n",
        "            # Backpropogate\n",
        "            optimizer.zero_grad()\n",
        "            unlabeled_loss.backward()\n",
        "            optimizer.step()\n",
        "            \n",
        "            \n",
        "            # For every 50 batches train one epoch on labeled data \n",
        "            if batch_idx % 50 == 0:\n",
        "                \n",
        "                # Normal training procedure\n",
        "                for batch_idx, (X_batch, y_batch) in enumerate(train_dataloader):\n",
        "                    X_batch = X_batch.to(device)\n",
        "                    y_batch = y_batch.to(device)\n",
        "                    output = model(X_batch)\n",
        "                    labeled_loss = criterion(output, y_batch)\n",
        "                    loss += labeled_loss\n",
        "\n",
        "                    optimizer.zero_grad()\n",
        "                    labeled_loss.backward()\n",
        "                    optimizer.step()\n",
        "                \n",
        "                # Now we increment step by 1\n",
        "                step += 1\n",
        "        torch.save(model_ft.state_dict(), '/content/drive/MyDrive/data/weights_stl10_semi_supervised_1.pth')\n",
        "        \n",
        "        print(f\"Epoch {epoch} loss : {loss}\")\n",
        "        test(model)"
      ],
      "metadata": {
        "id": "0nwkmGJ23lkj"
      },
      "execution_count": 14,
      "outputs": []
    },
    {
      "cell_type": "markdown",
      "source": [
        "# ResNet 9 Model"
      ],
      "metadata": {
        "id": "0KZPAtqxKxDl"
      }
    },
    {
      "cell_type": "code",
      "metadata": {
        "id": "ot5PrfvJEPtV"
      },
      "source": [
        "def conv_block(in_channels, out_channels, pool=False):\n",
        "    layers = [nn.Conv2d(in_channels, out_channels, kernel_size=3, padding=1), \n",
        "              nn.BatchNorm2d(out_channels), \n",
        "              nn.ReLU(inplace=True)]\n",
        "    if pool: layers.append(nn.MaxPool2d(2))\n",
        "    return nn.Sequential(*layers)\n",
        "\n",
        "class ResNet9(nn.Module):\n",
        "    def __init__(self, in_channels, num_classes):\n",
        "        super(ResNet9, self).__init__()\n",
        "        \n",
        "        self.conv1 = conv_block(in_channels, 64,pool=True)\n",
        "        self.conv2 = conv_block(64, 128, pool=True) # output: 128 x 24 x 24\n",
        "        self.res1 = nn.Sequential(conv_block(128, 128), conv_block(128, 128))\n",
        "        \n",
        "        self.conv3 = conv_block(128, 256, pool=True) # output: 256 x 12 x 12\n",
        "        self.conv4 = conv_block(256, 512, pool=True) # output: 512 x 6 x 6\n",
        "        self.res2 = nn.Sequential(conv_block(512, 512), conv_block(512, 512))\n",
        "        \n",
        "        self.classifier = nn.Sequential(nn.MaxPool2d(6), \n",
        "                                        nn.Flatten(), \n",
        "                                        nn.Dropout(0.2),\n",
        "                                        nn.Linear(512, num_classes))\n",
        "        \n",
        "    def forward(self, xb):\n",
        "        out = self.conv1(xb)\n",
        "        out = self.conv2(out)\n",
        "        out = self.res1(out) + out\n",
        "        out = self.conv3(out)\n",
        "        out = self.conv4(out)\n",
        "        out = self.res2(out) + out\n",
        "        out = self.classifier(out)\n",
        "        return out"
      ],
      "execution_count": 15,
      "outputs": []
    },
    {
      "cell_type": "code",
      "metadata": {
        "id": "3a1Uskm8EPtd"
      },
      "source": [
        "model = ResNet9(3, 10)\n",
        "print(model)\n",
        "optimizer = torch.optim.Adam(params=model.parameters(), lr=LR)\n",
        "loss_fn = nn.CrossEntropyLoss()"
      ],
      "execution_count": null,
      "outputs": []
    },
    {
      "cell_type": "code",
      "source": [
        "model.load_state_dict(torch.load(\"/content/drive/MyDrive/data/weights_stl10.pth\", map_location=torch.device(device)))"
      ],
      "metadata": {
        "id": "uHav7cztGiZC"
      },
      "execution_count": null,
      "outputs": []
    },
    {
      "cell_type": "markdown",
      "metadata": {
        "id": "eCPMTvrFFFam"
      },
      "source": [
        "# Training"
      ]
    },
    {
      "cell_type": "code",
      "source": [
        "semisup_train(model, labeled_dataloader, unlabeled_dataloader, loss_fn, optimizer, num_epochs=60)"
      ],
      "metadata": {
        "id": "IQoXuFw7E2xJ"
      },
      "execution_count": null,
      "outputs": []
    },
    {
      "cell_type": "code",
      "source": [
        "torch.save(model.state_dict(), '/content/drive/MyDrive/data/weights_stl10_semi_supervised_final.pth')"
      ],
      "metadata": {
        "id": "mk9yMQ9vKQba"
      },
      "execution_count": null,
      "outputs": []
    }
  ]
}