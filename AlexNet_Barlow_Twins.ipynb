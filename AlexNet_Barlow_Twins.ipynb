{
  "nbformat": 4,
  "nbformat_minor": 0,
  "metadata": {
    "colab": {
      "name": "AlexNet_Barlow_Twins.ipynb",
      "provenance": [],
      "collapsed_sections": [],
      "include_colab_link": true
    },
    "kernelspec": {
      "name": "python3",
      "display_name": "Python 3"
    },
    "language_info": {
      "name": "python"
    }
  },
  "cells": [
    {
      "cell_type": "markdown",
      "metadata": {
        "id": "view-in-github",
        "colab_type": "text"
      },
      "source": [
        "<a href=\"https://colab.research.google.com/github/hrishi508/Self-and-Semi-Supervised-Learning/blob/main/AlexNet_Barlow_Twins.ipynb\" target=\"_parent\"><img src=\"https://colab.research.google.com/assets/colab-badge.svg\" alt=\"Open In Colab\"/></a>"
      ]
    },
    {
      "cell_type": "markdown",
      "metadata": {
        "id": "sofe8YH8BOEN"
      },
      "source": [
        "## Imports"
      ]
    },
    {
      "cell_type": "code",
      "metadata": {
        "id": "KyagcRRwMeo5"
      },
      "source": [
        "import torch\n",
        "import torch.nn as nn\n",
        "import torch.nn.functional as F\n",
        "from torchvision import datasets\n",
        "from torch.autograd import Variable\n",
        "from torch.utils.data import Dataset\n",
        "from torch.utils.data import DataLoader\n",
        "from torchvision.transforms import ToTensor\n",
        "import torchvision.transforms as transforms\n",
        "# from torchviz import make_dot\n",
        "\n",
        "import time\n",
        "import numpy as np\n",
        "import pandas as pd\n",
        "import matplotlib.pyplot as plt\n",
        "from sklearn.manifold import TSNE\n",
        "from sklearn.decomposition import PCA\n",
        "from sklearn.preprocessing import StandardScaler"
      ],
      "execution_count": null,
      "outputs": []
    },
    {
      "cell_type": "code",
      "metadata": {
        "colab": {
          "base_uri": "https://localhost:8080/"
        },
        "id": "DMyDn3HSLhq9",
        "outputId": "a94e1755-0eb7-4bc9-b0c3-9b54f47ff173"
      },
      "source": [
        "from google.colab import drive\n",
        "drive.mount('/content/drive')\n",
        "\n",
        "%cd /content/drive/MyDrive"
      ],
      "execution_count": null,
      "outputs": [
        {
          "output_type": "stream",
          "name": "stdout",
          "text": [
            "Mounted at /content/drive\n",
            "/content/drive/MyDrive\n"
          ]
        }
      ]
    },
    {
      "cell_type": "code",
      "source": [
        "device = 'cuda' if torch.cuda.is_available() else 'cpu'\n",
        "device"
      ],
      "metadata": {
        "id": "1_a4y6W_bmJ3",
        "colab": {
          "base_uri": "https://localhost:8080/",
          "height": 35
        },
        "outputId": "1b30b665-4b36-4566-e689-2c7da6250d4e"
      },
      "execution_count": null,
      "outputs": [
        {
          "output_type": "execute_result",
          "data": {
            "application/vnd.google.colaboratory.intrinsic+json": {
              "type": "string"
            },
            "text/plain": [
              "'cpu'"
            ]
          },
          "metadata": {},
          "execution_count": 5
        }
      ]
    },
    {
      "cell_type": "markdown",
      "metadata": {
        "id": "Ty1XcIxvBShg"
      },
      "source": [
        "## Data Preparation\n",
        "\n",
        "Here, we are extracting 500 labelled images from the the training set for the self-supervised learning. Using labelled data sounds counter-intuitive but we are not using the labels in the training of the network, we are only using them for the TSNE visualization of the embedding vectors after every epoch."
      ]
    },
    {
      "cell_type": "code",
      "metadata": {
        "id": "zYLWrg3vOr87"
      },
      "source": [
        "transform = transforms.Compose([\n",
        "    transforms.ToTensor(),    \n",
        "    transforms.Normalize([0.485, 0.456, 0.406], [0.229, 0.224, 0.225]),   \n",
        "    \n",
        "])\n",
        "\n",
        "training_data = datasets.STL10(\n",
        "    root=\"data\",\n",
        "    split=\"train\",\n",
        "    transform=transform,\n",
        "    download=False\n",
        ")\n",
        "\n",
        "# test_data = datasets.STL10(\n",
        "#     root=\"data\",\n",
        "#     split='test',\n",
        "#     transform=transform,\n",
        "#     download=False\n",
        "# )\n",
        "\n",
        "# unlabelled = datasets.STL10(\n",
        "#     root=\"data\",\n",
        "#     split=\"unlabeled\",\n",
        "#     transform=transform,\n",
        "#     download=False\n",
        "# )"
      ],
      "execution_count": null,
      "outputs": []
    },
    {
      "cell_type": "code",
      "metadata": {
        "id": "G1Ma9i5_SvAa"
      },
      "source": [
        "labelled_500, _ = torch.utils.data.random_split(training_data, [500, 4500])"
      ],
      "execution_count": null,
      "outputs": []
    },
    {
      "cell_type": "code",
      "metadata": {
        "id": "mMsoyhwD-t5q"
      },
      "source": [
        "def imshow(imgt):\n",
        "    img = imgt.clone()\n",
        "    t1 = torch.tensor([0.485, 0.456, 0.406])\n",
        "    t2 = torch.tensor([0.229, 0.224, 0.225])\n",
        "    img[0]*=t2[0]\n",
        "    img[1]*=t2[1]\n",
        "    img[2]*=t2[2]\n",
        "\n",
        "    img[0]+=t1[0]\n",
        "    img[1]+=t1[1]\n",
        "    img[2]+=t1[2]\n",
        "\n",
        "    npimg = img.numpy()\n",
        "    plt.imshow(np.transpose(npimg, (1, 2, 0)))\n",
        "    plt.show()"
      ],
      "execution_count": null,
      "outputs": []
    },
    {
      "cell_type": "code",
      "metadata": {
        "id": "xs0BekaJRcdT"
      },
      "source": [
        "labels_map = {\n",
        "    0: \"airplane\",\n",
        "    1: \"bird\",\n",
        "    2: \"car\",\n",
        "    3: \"cat\",\n",
        "    4: \"deer\",\n",
        "    5: \"dog\",\n",
        "    6: \"horse\",\n",
        "    7: \"monkey\",\n",
        "    8: \"ship\",\n",
        "    9: \"truck\",\n",
        "}\n",
        "img, label = training_data[155]\n",
        "print(labels_map[label])\n",
        "print(img.shape)\n",
        "imshow(img)"
      ],
      "execution_count": null,
      "outputs": []
    },
    {
      "cell_type": "code",
      "metadata": {
        "id": "Ae8z9kyaUNGu"
      },
      "source": [
        "## HYPERPARAMETERS\n",
        "BATCH_SIZE = 64  #64\n",
        "LR = 0.001      #0.001\n",
        "EPOCHS = 50\n",
        "\n",
        "train_dataloader = DataLoader(labelled_500, batch_size=BATCH_SIZE, shuffle=True)"
      ],
      "execution_count": null,
      "outputs": []
    },
    {
      "cell_type": "code",
      "metadata": {
        "id": "TFrlZqG3UgIv"
      },
      "source": [
        "train_features, train_labels = next(iter(train_dataloader))\n",
        "# tf = train_features.unsqueeze(0)\n",
        "# print(tf.shape)\n",
        "# print(train_labels)\n",
        "img = train_features[0]\n",
        "imshow(img)"
      ],
      "execution_count": null,
      "outputs": []
    },
    {
      "cell_type": "markdown",
      "metadata": {
        "id": "X5jf24Lc3-d7"
      },
      "source": [
        "## Data Augmentation\n",
        "\n",
        "We have defined several augmentations, with the hyperparameters taken from the original Work on Barlow Twins."
      ]
    },
    {
      "cell_type": "code",
      "metadata": {
        "id": "sSPZwO60Admy"
      },
      "source": [
        "def augment(x):\n",
        "    t = transforms.RandomApply([\n",
        "        transforms.RandomHorizontalFlip(0.5),\n",
        "        transforms.RandomRotation(15),\n",
        "        transforms.GaussianBlur(9, sigma=(0.1, 2.0)),\n",
        "        transforms.RandomSolarize(0.5, 0.2),\n",
        "        transforms.ColorJitter(0.4, 0.4, 0.2, 0.1) \n",
        "    ], p=0.7)\n",
        "\n",
        "    im1 = t(x)\n",
        "    im2 = t(x)\n",
        "\n",
        "    return im1, im2\n",
        "    # return x.clone(), x.clone()\n"
      ],
      "execution_count": null,
      "outputs": []
    },
    {
      "cell_type": "code",
      "metadata": {
        "id": "BpH-UbwsC8xg"
      },
      "source": [
        "a, b = augment(img)\n",
        "imshow(a)\n",
        "imshow(b)"
      ],
      "execution_count": null,
      "outputs": []
    },
    {
      "cell_type": "markdown",
      "metadata": {
        "id": "2oQIBiBhMaGm"
      },
      "source": [
        "# Train function\n",
        "This function contains our implementaion of the training pseudocode as given in the paper on Barlow Twins."
      ]
    },
    {
      "cell_type": "code",
      "metadata": {
        "id": "E2gLPsi9dhkJ"
      },
      "source": [
        "def loss_fn(C, lambd):\n",
        "    loss = 0\n",
        "    temp = (C - torch.eye(C.size(0), requires_grad=False).to(device)).pow(2)\n",
        "    temp2 = temp * ((torch.ones(C.shape, requires_grad=False)-torch.eye(C.size(0), requires_grad=False))*lambd).to(device)\n",
        "    loss = torch.sum(temp2)\n",
        "    return loss"
      ],
      "execution_count": null,
      "outputs": []
    },
    {
      "cell_type": "code",
      "metadata": {
        "id": "O-ROd9ydAsg_"
      },
      "source": [
        "def train_model(model, dataloader, loss_func, optimizer, lambd, num_epochs=100):\n",
        "    since = time.time()\n",
        "    model = model.to(device)\n",
        "\n",
        "    for epoch in range(num_epochs):\n",
        "        print('Epoch {}/{}'.format(epoch, num_epochs - 1))\n",
        "        print('-' * 10)\n",
        "        \n",
        "        model.train()\n",
        "\n",
        "        running_loss = 0.0\n",
        "\n",
        "        for inputs, _ in dataloader:\n",
        "            inputs = inputs.to(device)\n",
        "\n",
        "            optimizer.zero_grad()\n",
        "\n",
        "            ix1, ix2 = augment(inputs)                     \n",
        "            x1 = torch.squeeze(model(ix1))\n",
        "            x2 = torch.squeeze(model(ix2))\n",
        "            # print(x1-x2)\n",
        "\n",
        "            \n",
        "            x1 = (x1 - torch.std_mean(x1, 0)[1])/(torch.std_mean(x1, 0)[0] + 1e-9)\n",
        "            x2 = (x2 - torch.std_mean(x2, 0)[1])/(torch.std_mean(x2, 0)[0] + 1e-9)\n",
        "            \n",
        "            C = torch.matmul(x1.T, x2)/len(inputs)\n",
        "            # print(C)\n",
        "            # print(C.shape)\n",
        "            \n",
        "            loss = loss_func(C, lambd)\n",
        "            # make_dot(loss, params=dict(list(model_ft.named_parameters()))).render(\"model_torchviz\", format=\"png\")\n",
        "            # break\n",
        "\n",
        "            loss.backward()\n",
        "            torch.nn.utils.clip_grad_norm_(model.parameters(), 1000)\n",
        "            optimizer.step()\n",
        "\n",
        "            running_loss += loss.item() * inputs.size(0)\n",
        "\n",
        "        epoch_loss = running_loss / len(dataloader.dataset)\n",
        "\n",
        "        print('Loss: {:.4f}'.format(epoch_loss))\n",
        "\n",
        "        print()\n",
        "        e = visualize_embeddings_500(model, dataloader, epoch, \"BOTH\", False)\n",
        "        print(\"Viz done!\")\n",
        "        print()\n",
        "\n",
        "    time_elapsed = time.time() - since\n",
        "    print('Training complete in {:.0f}m {:.0f}s'.format(time_elapsed // 60, time_elapsed % 60))\n",
        "\n",
        "    return"
      ],
      "execution_count": null,
      "outputs": []
    },
    {
      "cell_type": "markdown",
      "source": [
        "## Debugging code (ignore)"
      ],
      "metadata": {
        "id": "My0FClcb7wHB"
      }
    },
    {
      "cell_type": "code",
      "metadata": {
        "id": "cLxBx3Y_jNtF"
      },
      "source": [
        "# a = torch.tensor([[3,3,3],[3,3,3]]) / torch.tensor([3,3,3])\n",
        "# a"
      ],
      "execution_count": null,
      "outputs": []
    },
    {
      "cell_type": "code",
      "metadata": {
        "id": "UskkAMWHMByP"
      },
      "source": [
        "# x1 = torch.ones((64,128))*30\n",
        "# print(x1)\n",
        "# print(torch.std_mean(x1, 0)[0])\n",
        "# x1 = (x1 - torch.std_mean(x1, 0)[1])/torch.std_mean(x1, 0)[0]\n",
        "# print(x1)"
      ],
      "execution_count": null,
      "outputs": []
    },
    {
      "cell_type": "code",
      "metadata": {
        "id": "zxAWDs_QlFF8"
      },
      "source": [
        "# def set_parameter_requires_grad(model, feature_extracting):\n",
        "#     if feature_extracting:\n",
        "#         for param in model.parameters():\n",
        "            # param.requires_grad = False"
      ],
      "execution_count": null,
      "outputs": []
    },
    {
      "cell_type": "markdown",
      "metadata": {
        "id": "yVLVLmgMcMEV"
      },
      "source": [
        "# Facebook train function (ignore)\n",
        "This function contains Facebook's [implementaion](https://github.com/facebookresearch/barlowtwins) of the training pseudocode as given in the paper on Barlow Twins."
      ]
    },
    {
      "cell_type": "code",
      "metadata": {
        "id": "979MCenQWxij"
      },
      "source": [
        "def off_diagonal(x):\n",
        "    # return a flattened view of the off-diagonal elements of a square matrix\n",
        "    n, m = x.shape\n",
        "    assert n == m\n",
        "    return x.flatten()[:-1].view(n - 1, n + 1)[:, 1:].flatten()"
      ],
      "execution_count": null,
      "outputs": []
    },
    {
      "cell_type": "code",
      "metadata": {
        "id": "SZTL9Wmn0tgE"
      },
      "source": [
        "def train_model_2(model, dataloader, optimizer, lambd, num_epochs=100):\n",
        "    since = time.time()\n",
        "    model = model.to(device)\n",
        "\n",
        "    for epoch in range(num_epochs):\n",
        "        print('Epoch {}/{}'.format(epoch, num_epochs - 1))\n",
        "        print('-' * 10)\n",
        "        \n",
        "        model.train()  # Set model to training mode\n",
        "\n",
        "        running_loss = 0.0\n",
        "\n",
        "            # Iterate over data.\n",
        "        for inputs, _ in dataloader:\n",
        "            inputs = inputs.to(device)\n",
        "\n",
        "            # zero the parameter gradients\n",
        "            optimizer.zero_grad()\n",
        "\n",
        "            ix1, ix2 = augment(inputs)                     \n",
        "            x1 = model(ix1)\n",
        "            x2 = model(ix2)\n",
        "            # print(x1.shape)\n",
        "            # print(x1-x2)\n",
        "            \n",
        "            m = nn.BatchNorm1d(x1.size(1), affine = False)\n",
        "            C = (m(x1).T @ m(x2))/len(inputs)\n",
        "            on_diag = torch.diagonal(C).add_(-1).pow_(2).sum()\n",
        "            off_diag = off_diagonal(C).pow_(2).sum()\n",
        "            loss = on_diag + lambd * off_diag\n",
        "            loss.backward()\n",
        "            optimizer.step()\n",
        "\n",
        "            # statistics\n",
        "            running_loss += loss.item() * inputs.size(0)\n",
        "\n",
        "        epoch_loss = running_loss / len(dataloader.dataset)\n",
        "\n",
        "        print('Loss: {:.4f}'.format(epoch_loss))\n",
        "\n",
        "        print()\n",
        "\n",
        "    time_elapsed = time.time() - since\n",
        "    print('Training complete in {:.0f}m {:.0f}s'.format(time_elapsed // 60, time_elapsed % 60))\n",
        "\n",
        "    return model"
      ],
      "execution_count": null,
      "outputs": []
    },
    {
      "cell_type": "markdown",
      "source": [
        "## LARS Optimizer implemented by Facebook (only useful for very large batch sizes)\n",
        "Even a batch size of 256 was causing an out of memory error on colab, so we did not use this optimizer."
      ],
      "metadata": {
        "id": "dJ-qNZCD-HVz"
      }
    },
    {
      "cell_type": "code",
      "metadata": {
        "id": "3oASYbsUgKyu"
      },
      "source": [
        "from torch import optim\n",
        "class LARS(optim.Optimizer):\n",
        "    def __init__(self, params, lr, weight_decay=0, momentum=0.9, eta=0.001,\n",
        "                 weight_decay_filter=False, lars_adaptation_filter=False):\n",
        "        defaults = dict(lr=lr, weight_decay=weight_decay, momentum=momentum,\n",
        "                        eta=eta, weight_decay_filter=weight_decay_filter,\n",
        "                        lars_adaptation_filter=lars_adaptation_filter)\n",
        "        super().__init__(params, defaults)\n",
        "\n",
        "\n",
        "    def exclude_bias_and_norm(self, p):\n",
        "        return p.ndim == 1\n",
        "\n",
        "    @torch.no_grad()\n",
        "    def step(self):\n",
        "        for g in self.param_groups:\n",
        "            for p in g['params']:\n",
        "                dp = p.grad\n",
        "\n",
        "                if dp is None:\n",
        "                    continue\n",
        "\n",
        "                if not g['weight_decay_filter'] or not self.exclude_bias_and_norm(p):\n",
        "                    dp = dp.add(p, alpha=g['weight_decay'])\n",
        "\n",
        "                if not g['lars_adaptation_filter'] or not self.exclude_bias_and_norm(p):\n",
        "                    param_norm = torch.norm(p)\n",
        "                    update_norm = torch.norm(dp)\n",
        "                    one = torch.ones_like(param_norm)\n",
        "                    q = torch.where(param_norm > 0.,\n",
        "                                    torch.where(update_norm > 0,\n",
        "                                                (g['eta'] * param_norm / update_norm), one), one)\n",
        "                    dp = dp.mul(q)\n",
        "\n",
        "                param_state = self.state[p]\n",
        "                if 'mu' not in param_state:\n",
        "                    param_state['mu'] = torch.zeros_like(p)\n",
        "                mu = param_state['mu']\n",
        "                mu.mul_(g['momentum']).add_(dp)\n",
        "\n",
        "                p.add_(mu, alpha=-g['lr'])"
      ],
      "execution_count": null,
      "outputs": []
    },
    {
      "cell_type": "code",
      "metadata": {
        "id": "5wjutBz2gr5R"
      },
      "source": [
        "optimizer = LARS(model_ft.parameters(), lr=0, weight_decay=1e-6,\n",
        "                     weight_decay_filter=True,\n",
        "                     lars_adaptation_filter=True)"
      ],
      "execution_count": null,
      "outputs": []
    },
    {
      "cell_type": "markdown",
      "source": [
        "# AlexNet Model\n",
        "This was an attempt of using a simpler model in the hope to tackle the Nan issue encountered during training."
      ],
      "metadata": {
        "id": "uZaANB25K3mS"
      }
    },
    {
      "cell_type": "code",
      "metadata": {
        "id": "8B3hcKfiK3mT"
      },
      "source": [
        "def conv_block(in_channels, out_channels, pool=False):\n",
        "    layers = [nn.Conv2d(in_channels, out_channels, kernel_size=3, padding=1), \n",
        "              nn.BatchNorm2d(out_channels), \n",
        "              nn.ReLU(inplace=True)]\n",
        "    if pool: layers.append(nn.MaxPool2d(2))\n",
        "    return nn.Sequential(*layers)\n",
        "\n",
        "class AlexNet(nn.Module):\n",
        "    def __init__(self, in_channels, num_classes):\n",
        "        super(AlexNet, self).__init__()\n",
        "        \n",
        "        self.conv1 = conv_block(in_channels, 64,pool=True)\n",
        "        self.pool1 = nn.Sequential(nn.MaxPool2d(2))\n",
        "        self.conv2 = conv_block(64, 128, pool=True)\n",
        "        self.conv3 = nn.Sequential(conv_block(128, 256), \n",
        "                                   conv_block(256, 256), \n",
        "                                   conv_block(256, 128))\n",
        "        \n",
        "        self.classifier = nn.Sequential(nn.MaxPool2d(2), \n",
        "                                        nn.Flatten(), \n",
        "                                        nn.Dropout(0.5),\n",
        "                                        nn.Linear(4608, 512))\n",
        "        \n",
        "    def forward(self, xb):\n",
        "        out = self.conv1(xb)\n",
        "        out = self.pool1(out)\n",
        "        out = self.conv2(out)\n",
        "        out = self.conv3(out)\n",
        "        out = self.classifier(out)\n",
        "        return out"
      ],
      "execution_count": null,
      "outputs": []
    },
    {
      "cell_type": "code",
      "metadata": {
        "id": "l6tzv_CNK3mU"
      },
      "source": [
        "def loss_fn(C, lambd):\n",
        "    loss = 0\n",
        "    temp = (C - torch.eye(C.size(0), requires_grad=False).to(device)).pow(2)\n",
        "    temp2 = temp * ((torch.ones(C.shape, requires_grad=False)-torch.eye(C.size(0), requires_grad=False))*lambd).to(device)\n",
        "    loss = torch.sum(temp2)\n",
        "    return loss"
      ],
      "execution_count": null,
      "outputs": []
    },
    {
      "cell_type": "code",
      "metadata": {
        "id": "CTUWoQNeK3mU",
        "outputId": "349260ef-4149-4d84-9bf0-41b62b8f6918",
        "colab": {
          "base_uri": "https://localhost:8080/"
        }
      },
      "source": [
        "model = AlexNet(3, 10)\n",
        "optimizer = torch.optim.Adam(params=model.parameters(), lr=LR)\n",
        "print(model)"
      ],
      "execution_count": null,
      "outputs": [
        {
          "output_type": "stream",
          "name": "stdout",
          "text": [
            "AlexNet(\n",
            "  (conv1): Sequential(\n",
            "    (0): Conv2d(3, 64, kernel_size=(3, 3), stride=(1, 1), padding=(1, 1))\n",
            "    (1): BatchNorm2d(64, eps=1e-05, momentum=0.1, affine=True, track_running_stats=True)\n",
            "    (2): ReLU(inplace=True)\n",
            "    (3): MaxPool2d(kernel_size=2, stride=2, padding=0, dilation=1, ceil_mode=False)\n",
            "  )\n",
            "  (pool1): Sequential(\n",
            "    (0): MaxPool2d(kernel_size=2, stride=2, padding=0, dilation=1, ceil_mode=False)\n",
            "  )\n",
            "  (conv2): Sequential(\n",
            "    (0): Conv2d(64, 128, kernel_size=(3, 3), stride=(1, 1), padding=(1, 1))\n",
            "    (1): BatchNorm2d(128, eps=1e-05, momentum=0.1, affine=True, track_running_stats=True)\n",
            "    (2): ReLU(inplace=True)\n",
            "    (3): MaxPool2d(kernel_size=2, stride=2, padding=0, dilation=1, ceil_mode=False)\n",
            "  )\n",
            "  (conv3): Sequential(\n",
            "    (0): Sequential(\n",
            "      (0): Conv2d(128, 256, kernel_size=(3, 3), stride=(1, 1), padding=(1, 1))\n",
            "      (1): BatchNorm2d(256, eps=1e-05, momentum=0.1, affine=True, track_running_stats=True)\n",
            "      (2): ReLU(inplace=True)\n",
            "    )\n",
            "    (1): Sequential(\n",
            "      (0): Conv2d(256, 256, kernel_size=(3, 3), stride=(1, 1), padding=(1, 1))\n",
            "      (1): BatchNorm2d(256, eps=1e-05, momentum=0.1, affine=True, track_running_stats=True)\n",
            "      (2): ReLU(inplace=True)\n",
            "    )\n",
            "    (2): Sequential(\n",
            "      (0): Conv2d(256, 128, kernel_size=(3, 3), stride=(1, 1), padding=(1, 1))\n",
            "      (1): BatchNorm2d(128, eps=1e-05, momentum=0.1, affine=True, track_running_stats=True)\n",
            "      (2): ReLU(inplace=True)\n",
            "    )\n",
            "  )\n",
            "  (classifier): Sequential(\n",
            "    (0): MaxPool2d(kernel_size=2, stride=2, padding=0, dilation=1, ceil_mode=False)\n",
            "    (1): Flatten(start_dim=1, end_dim=-1)\n",
            "    (2): Dropout(p=0.5, inplace=False)\n",
            "    (3): Linear(in_features=4608, out_features=512, bias=True)\n",
            "  )\n",
            ")\n"
          ]
        }
      ]
    },
    {
      "cell_type": "markdown",
      "metadata": {
        "id": "RVSQHAh_dM2N"
      },
      "source": [
        "# PCA function\n",
        "**visualize_embeddings_100**: This function generates 100 embedding vectors and gives their PCA or TSNE visualization as specified by the user.\n",
        "\n",
        "**visualize_embeddings_500**: This function generates 500 embedding vectors and gives their PCA or TSNE visualization as specified by the user."
      ]
    },
    {
      "cell_type": "code",
      "metadata": {
        "id": "PSZH21RCV5ll"
      },
      "source": [
        "def visualize_embeddings_100(model_ft, train_dataloader, epoch_number, method = \"TSNE\", visualize = True, N_components = 2, vector_size = 512, classes = 10):\n",
        "    cnt = 0\n",
        "    tmp = [0 for i in range(vector_size)]\n",
        "    x = [tmp for i in range(1000)]\n",
        "    vec_cnt = [0 for i in range(classes)]\n",
        "    i = 0\n",
        "    principalComponents = None\n",
        "\n",
        "    model_ft.eval()\n",
        "\n",
        "    while cnt < 100:\n",
        "\n",
        "        inputs, labels = next(iter(train_dataloader))\n",
        "        \n",
        "        for i in range(BATCH_SIZE):\n",
        "            if vec_cnt[labels[i]] == 10:\n",
        "                continue\n",
        "\n",
        "            if cnt == 100:\n",
        "                break\n",
        "            \n",
        "            input = inputs[i].unsqueeze(0)\n",
        "            input = input.to(device)\n",
        "            vec = torch.squeeze(model_ft(input))\n",
        "            \n",
        "            x[(labels[i]*10 + vec_cnt[labels[i]])] = vec.detach().numpy()\n",
        "            vec_cnt[labels[i]] += 1\n",
        "            cnt += 1\n",
        "\n",
        "\n",
        "    z = StandardScaler().fit_transform(x)\n",
        "\n",
        "    if method == \"TSNE\":\n",
        "        principalComponents = TSNE(n_components=N_components, learning_rate='auto', init='random').fit_transform(z)\n",
        "    \n",
        "    elif method == \"PCA\":\n",
        "        pca = PCA(n_components=N_components)\n",
        "        principalComponents = pca.fit_transform(z)\n",
        "\n",
        "    elif method == \"BOTH\":\n",
        "        principalComponents1 = TSNE(n_components=N_components, learning_rate='auto', init='random').fit_transform(z)\n",
        "\n",
        "        pca = PCA(n_components=N_components)\n",
        "        principalComponents2 = pca.fit_transform(z)\n",
        "\n",
        "        principalDf = pd.DataFrame(data = principalComponents1, columns = ['principal component 1', 'principal component 2'])\n",
        "        fig = plt.figure(figsize = (8,8))\n",
        "        ax = fig.add_subplot(1,1,1) \n",
        "\n",
        "        #plt.ylim([-30,30])\n",
        "\n",
        "        ax.set_xlabel('Principal Component 1', fontsize = 15)\n",
        "        ax.set_ylabel('Principal Component 2', fontsize = 15)\n",
        "        ax.set_title(method + ' Output', fontsize = 20)\n",
        "        colors = ['r', 'g', 'b','c','m','y','k','gold','grey','purple']\n",
        "        k=[0,2,6,8,9]\n",
        "        n = 10\n",
        "        for i in range(10):\n",
        "            ax.scatter(principalDf.loc[range((i*n),((i*n)+n)), 'principal component 1']\n",
        "                    , principalDf.loc[range((i*n),((i*n)+n)), 'principal component 2']\n",
        "                    , c = colors[i]\n",
        "                    , s = 50)\n",
        "\n",
        "        #ax.legend(targets)\n",
        "        plt.savefig('/content/drive/MyDrive/data/'+'TSNE_Output_Epoch_' + str(epoch_number) + '.png')\n",
        "        plt.close()\n",
        "\n",
        "        principalDf = pd.DataFrame(data = principalComponents2, columns = ['principal component 1', 'principal component 2'])\n",
        "        fig = plt.figure(figsize = (8,8))\n",
        "        ax = fig.add_subplot(1,1,1) \n",
        "\n",
        "        #plt.ylim([-30,30])\n",
        "\n",
        "        ax.set_xlabel('Principal Component 1', fontsize = 15)\n",
        "        ax.set_ylabel('Principal Component 2', fontsize = 15)\n",
        "        ax.set_title(method + ' Output', fontsize = 20)\n",
        "        colors = ['r', 'g', 'b','c','m','y','k','gold','grey','purple']\n",
        "        k=[0,2,6,8,9]\n",
        "        n = 10\n",
        "        for i in range(10):\n",
        "            ax.scatter(principalDf.loc[range((i*n),((i*n)+n)), 'principal component 1']\n",
        "                    , principalDf.loc[range((i*n),((i*n)+n)), 'principal component 2']\n",
        "                    , c = colors[i]\n",
        "                    , s = 50)\n",
        "\n",
        "        #ax.legend(targets)\n",
        "        plt.savefig('/content/drive/MyDrive/data/'+'PCA_Output_Epoch_' + str(epoch_number) + '.png')\n",
        "        plt.close()\n",
        "\n",
        "        return x\n",
        "\n",
        "        \n",
        "    principalDf = pd.DataFrame(data = principalComponents, columns = ['principal component 1', 'principal component 2'])\n",
        "    fig = plt.figure(figsize = (8,8))\n",
        "    ax = fig.add_subplot(1,1,1) \n",
        "\n",
        "    #plt.ylim([-30,30])\n",
        "\n",
        "    ax.set_xlabel('Principal Component 1', fontsize = 15)\n",
        "    ax.set_ylabel('Principal Component 2', fontsize = 15)\n",
        "    ax.set_title(method + ' Output', fontsize = 20)\n",
        "    colors = ['r', 'g', 'b','c','m','y','k','gold','grey','purple']\n",
        "    k=[0,2,6,8,9]\n",
        "    n = 10\n",
        "    for i in range(10):\n",
        "        ax.scatter(principalDf.loc[range((i*n),((i*n)+n)), 'principal component 1']\n",
        "                , principalDf.loc[range((i*n),((i*n)+n)), 'principal component 2']\n",
        "                , c = colors[i]\n",
        "                , s = 50)\n",
        "\n",
        "    #ax.legend(targets)\n",
        "    ax.grid()\n",
        "    plt.savefig('/content/drive/MyDrive/data/'+'TSNE_Output_Epoch_' + str(epoch_number) + '.png')\n",
        "    if visualize == False:\n",
        "        plt.close()\n",
        "\n",
        "    return x"
      ],
      "execution_count": null,
      "outputs": []
    },
    {
      "cell_type": "code",
      "metadata": {
        "id": "_0L-qnnYeKC-"
      },
      "source": [
        "def visualize_embeddings_500(model_ft, train_dataloader, epoch_number, method = \"TSNE\", visualize = True, N_components = 2, vector_size = 512, classes = 10):\n",
        "    cnt = 0\n",
        "    tmp = [0 for i in range(vector_size)]\n",
        "    x = [tmp for i in range(1000)]\n",
        "    vec_cnt = [0 for i in range(classes)]\n",
        "    i = 0\n",
        "    principalComponents = None\n",
        "\n",
        "    model_ft.eval()\n",
        "\n",
        "    while cnt < 500:\n",
        "\n",
        "        inputs, labels = next(iter(train_dataloader))\n",
        "        # print(labels)\n",
        "        \n",
        "        for i in range(BATCH_SIZE):\n",
        "\n",
        "            if cnt == 500:\n",
        "                break\n",
        "            \n",
        "            input = inputs[i].unsqueeze(0)\n",
        "            input = input.to(device)\n",
        "            vec = torch.squeeze(model_ft(input))\n",
        "            \n",
        "            # print((labels[i]*100 + vec_cnt[labels[i]]))\n",
        "            x[(labels[i]*100 + vec_cnt[labels[i]])] = vec.cpu().detach().numpy()\n",
        "            vec_cnt[labels[i]] += 1\n",
        "            cnt += 1\n",
        "            i += 1\n",
        "\n",
        "\n",
        "    z = StandardScaler().fit_transform(x)\n",
        "\n",
        "    if method == \"TSNE\":\n",
        "        principalComponents = TSNE(n_components=N_components, learning_rate='auto', init='random').fit_transform(z)\n",
        "    \n",
        "    elif method == \"PCA\":\n",
        "        pca = PCA(n_components=N_components)\n",
        "        principalComponents = pca.fit_transform(z)\n",
        "\n",
        "    elif method == \"BOTH\":\n",
        "        principalComponents1 = TSNE(n_components=N_components, learning_rate='auto', init='random').fit_transform(z)\n",
        "\n",
        "        pca = PCA(n_components=N_components)\n",
        "        principalComponents2 = pca.fit_transform(z)\n",
        "\n",
        "        principalDf = pd.DataFrame(data = principalComponents1, columns = ['principal component 1', 'principal component 2'])\n",
        "        fig = plt.figure(figsize = (8,8))\n",
        "        ax = fig.add_subplot(1,1,1) \n",
        "\n",
        "        #plt.ylim([-30,30])\n",
        "\n",
        "        ax.set_xlabel('Principal Component 1', fontsize = 15)\n",
        "        ax.set_ylabel('Principal Component 2', fontsize = 15)\n",
        "        ax.set_title('TSNE Output', fontsize = 20)\n",
        "        colors = ['r', 'g', 'b','c','m','y','k','gold','grey','purple']\n",
        "        k=[0,2,6,8,9]\n",
        "        # n = 10\n",
        "        for i in range(10):\n",
        "            ax.scatter(principalDf.loc[range((i*100),((i*100)+vec_cnt[i])), 'principal component 1']\n",
        "                    , principalDf.loc[range((i*100),((i*100)+vec_cnt[i])), 'principal component 2']\n",
        "                    , c = colors[i]\n",
        "                    , s = 25)\n",
        "\n",
        "        #ax.legend(targets)\n",
        "        ax.grid()\n",
        "        plt.savefig('/content/drive/MyDrive/data/'+'TSNE_Output_Epoch_' + str(epoch_number) + '.png')\n",
        "        plt.close()\n",
        "\n",
        "        principalDf = pd.DataFrame(data = principalComponents2, columns = ['principal component 1', 'principal component 2'])\n",
        "        fig = plt.figure(figsize = (8,8))\n",
        "        ax = fig.add_subplot(1,1,1) \n",
        "\n",
        "        #plt.ylim([-30,30])\n",
        "\n",
        "        ax.set_xlabel('Principal Component 1', fontsize = 15)\n",
        "        ax.set_ylabel('Principal Component 2', fontsize = 15)\n",
        "        ax.set_title('PCA Output', fontsize = 20)\n",
        "        colors = ['r', 'g', 'b','c','m','y','k','gold','grey','purple']\n",
        "        k=[0,2,6,8,9]\n",
        "        # n = 10\n",
        "        for i in range(10):\n",
        "            ax.scatter(principalDf.loc[range((i*100),((i*100)+vec_cnt[i])), 'principal component 1']\n",
        "                    , principalDf.loc[range((i*100),((i*100)+vec_cnt[i])), 'principal component 2']\n",
        "                    , c = colors[i]\n",
        "                    , s = 25)\n",
        "\n",
        "        #ax.legend(targets)\n",
        "        ax.grid()\n",
        "        plt.savefig('/content/drive/MyDrive/data/'+'PCA_Output_Epoch_' + str(epoch_number) + '.png')\n",
        "        plt.close()\n",
        "\n",
        "        return x\n",
        "    \n",
        "    principalDf = pd.DataFrame(data = principalComponents\n",
        "                , columns = ['principal component 1', 'principal component 2'])\n",
        "    fig = plt.figure(figsize = (8,8))\n",
        "    ax = fig.add_subplot(1,1,1) \n",
        "\n",
        "    #plt.ylim([-30,30])\n",
        "\n",
        "    ax.set_xlabel('Principal Component 1', fontsize = 15)\n",
        "    ax.set_ylabel('Principal Component 2', fontsize = 15)\n",
        "    ax.set_title('TSNE Output', fontsize = 20)\n",
        "    colors = ['r', 'g', 'b','c','m','y','k','gold','grey','purple']\n",
        "    k=[0,2,6,8,9]\n",
        "    # x = 50\n",
        "    for i in range(10):\n",
        "        ax.scatter(principalDf.loc[range((i*100),((i*100)+vec_cnt[i])), 'principal component 1']\n",
        "                , principalDf.loc[range((i*100),((i*100)+vec_cnt[i])), 'principal component 2']\n",
        "                , c = colors[i]\n",
        "                , s = 50)\n",
        "\n",
        "    #ax.legend(targets)\n",
        "    ax.grid()\n",
        "    plt.savefig('/content/drive/MyDrive/data/'+'TSNE_Output_Epoch_' + str(epoch_number) + '.png')\n",
        "\n",
        "    if visualize == False:\n",
        "        plt.close()\n",
        "\n",
        "    return x"
      ],
      "execution_count": null,
      "outputs": []
    },
    {
      "cell_type": "code",
      "metadata": {
        "id": "kjueVZwPXiMS"
      },
      "source": [
        "model = model.to(device)\n",
        "p = visualize_embeddings_100(model, train_dataloader, 1, \"BOTH\", False)\n",
        "p = visualize_embeddings_500(model, train_dataloader, 1, \"BOTH\", False)"
      ],
      "execution_count": null,
      "outputs": []
    },
    {
      "cell_type": "markdown",
      "metadata": {
        "id": "PMjlNI0ecCEf"
      },
      "source": [
        "## PCA debugging code (ignore)"
      ]
    },
    {
      "cell_type": "code",
      "metadata": {
        "colab": {
          "base_uri": "https://localhost:8080/"
        },
        "id": "Gj_D9ig_UXWx",
        "outputId": "889f605c-557b-436e-b66c-b367d4541468"
      },
      "source": [
        "##### Experiment PCA with 500 samples\n",
        "# cnt = 0\n",
        "# i=0\n",
        "# tmp = [0 for i in range(128)]\n",
        "# x = [tmp for i in range(1000)]\n",
        "# vec_cnt = [0 for i in range(10)]\n",
        "\n",
        "# model_ft.eval()\n",
        "\n",
        "# while cnt < 500:\n",
        "\n",
        "#     inputs, labels = next(iter(train_dataloader))\n",
        "#     # print(labels)\n",
        "    \n",
        "#     for i in range(BATCH_SIZE):\n",
        "\n",
        "#         if cnt == 500:\n",
        "#             break\n",
        "        \n",
        "#         input = inputs[i].unsqueeze(0)\n",
        "#         input = input.to(device)\n",
        "#         vec = torch.squeeze(model_ft(input))\n",
        "        \n",
        "#         # print((labels[i]*100 + vec_cnt[labels[i]]))\n",
        "#         x[(labels[i]*100 + vec_cnt[labels[i]])] = vec.detach().numpy()\n",
        "#         vec_cnt[labels[i]] += 1\n",
        "#         cnt += 1\n",
        "#         i += 1\n",
        "\n",
        "# x = StandardScaler().fit_transform(x)\n",
        "\n",
        "# principalComponents = TSNE(n_components=2, learning_rate='auto', init='random').fit_transform(x)\n",
        "# principalDf = pd.DataFrame(data = principalComponents\n",
        "#              , columns = ['principal component 1', 'principal component 2'])\n",
        "# fig = plt.figure(figsize = (8,8))\n",
        "# ax = fig.add_subplot(1,1,1) \n",
        "\n",
        "# #plt.ylim([-30,30])\n",
        "\n",
        "# ax.set_xlabel('Principal Component 1', fontsize = 15)\n",
        "# ax.set_ylabel('Principal Component 2', fontsize = 15)\n",
        "# ax.set_title('TSNE Output', fontsize = 20)\n",
        "# colors = ['r', 'g', 'b','c','m','y','k','gold','grey','purple']\n",
        "# k=[0,2,6,8,9]\n",
        "# x = 50\n",
        "# for i in range(10):\n",
        "#     ax.scatter(principalDf.loc[range((i*100),((i*100)+vec_cnt[i])), 'principal component 1']\n",
        "#                , principalDf.loc[range((i*100),((i*100)+vec_cnt[i])), 'principal component 2']\n",
        "#                , c = colors[i]\n",
        "#                , s = 50)\n",
        "\n",
        "# #ax.legend(targets)\n",
        "# ax.grid()"
      ],
      "execution_count": null,
      "outputs": [
        {
          "output_type": "display_data",
          "data": {
            "image/png": "[encoded data removed]",
            "text/plain": [
              "<Figure size 576x576 with 1 Axes>"
            ]
          },
          "metadata": {
            "needs_background": "light"
          }
        }
      ]
    },
    {
      "cell_type": "code",
      "metadata": {
        "colab": {
          "base_uri": "https://localhost:8080/"
        },
        "id": "SKJNr_ppdxaR",
        "outputId": "a02edd53-c699-434a-a901-2c80d23b779c"
      },
      "source": [
        "# print(vec_cnt) #Trial 3"
      ],
      "execution_count": null,
      "outputs": [
        {
          "output_type": "stream",
          "name": "stdout",
          "text": [
            "[44, 37, 58, 68, 55, 41, 44, 36, 51, 66]\n"
          ]
        }
      ]
    },
    {
      "cell_type": "code",
      "metadata": {
        "colab": {
          "base_uri": "https://localhost:8080/"
        },
        "id": "5YfNWUUEdOwR",
        "outputId": "e3de950e-137b-4e46-9715-3e504b379ef4"
      },
      "source": [
        "# print(vec_cnt) #Trial 2"
      ],
      "execution_count": null,
      "outputs": [
        {
          "output_type": "stream",
          "name": "stdout",
          "text": [
            "[29, 58, 62, 42, 67, 39, 59, 35, 69, 40]\n"
          ]
        }
      ]
    },
    {
      "cell_type": "code",
      "metadata": {
        "colab": {
          "base_uri": "https://localhost:8080/"
        },
        "id": "ecLWKKs8b0vn",
        "outputId": "2f65c277-24c3-4a53-80b0-97972be4d3ec"
      },
      "source": [
        "# print(vec_cnt) #Trial 1\n",
        "# print(sum(vec_cnt))"
      ],
      "execution_count": null,
      "outputs": [
        {
          "output_type": "stream",
          "name": "stdout",
          "text": [
            "[44, 46, 50, 47, 41, 56, 37, 66, 50, 63]\n",
            "500\n"
          ]
        }
      ]
    },
    {
      "cell_type": "code",
      "metadata": {
        "id": "ob8gy4STniIG"
      },
      "source": [
        "# ##### PCA from trainloader\n",
        "# cnt = 0\n",
        "# i=0\n",
        "# tmp = [0 for i in range(128)]\n",
        "# x = [tmp for i in range(100)]\n",
        "# vec_cnt = [0 for i in range(10)]\n",
        "\n",
        "# model_ft.eval()\n",
        "\n",
        "# while cnt < 100:\n",
        "\n",
        "#     inputs, labels = next(iter(train_dataloader))\n",
        "    \n",
        "#     for i in range(BATCH_SIZE):\n",
        "#         if vec_cnt[labels[i]] == 10:\n",
        "#             i += 1\n",
        "#             continue\n",
        "\n",
        "#         if cnt == 100:\n",
        "#             break\n",
        "        \n",
        "#         input = inputs[i].unsqueeze(0)\n",
        "#         input = input.to(device)\n",
        "#         vec = torch.squeeze(model_ft(input))\n",
        "        \n",
        "#         x[(labels[i]*10 + vec_cnt[labels[i]])] = vec.detach().numpy()\n",
        "#         vec_cnt[labels[i]] += 1\n",
        "#         cnt += 1\n",
        "#         i += 1"
      ],
      "execution_count": null,
      "outputs": []
    },
    {
      "cell_type": "code",
      "metadata": {
        "id": "-3YFaSCUBb9u"
      },
      "source": [
        "# ##### PCA from dataset directly\n",
        "# cnt = 0\n",
        "# i=0\n",
        "# x = [[0] for i in range(100)]\n",
        "# vec_cnt = [0 for i in range(10)]\n",
        "\n",
        "# model_ft.eval()\n",
        "\n",
        "# while cnt < 100:\n",
        "\n",
        "#     input, label = training_data[i]\n",
        "\n",
        "#     if vec_cnt[label] == 10:\n",
        "#         i += 1\n",
        "#         continue\n",
        "    \n",
        "#     input = input.unsqueeze(0)\n",
        "#     input = input.to(device)\n",
        "#     vec = torch.squeeze(model_ft(input))\n",
        "    \n",
        "#     x[(label*10 + vec_cnt[label])] = vec.detach().numpy()\n",
        "#     vec_cnt[label] += 1\n",
        "#     cnt += 1\n",
        "#     i += 1"
      ],
      "execution_count": null,
      "outputs": []
    },
    {
      "cell_type": "code",
      "metadata": {
        "colab": {
          "base_uri": "https://localhost:8080/"
        },
        "id": "6sjJCKFrNqlN",
        "outputId": "fc928ac8-8836-43b5-8e8a-4962d0c278c6"
      },
      "source": [
        "# print(vec_cnt)\n",
        "# # print(x)"
      ],
      "execution_count": null,
      "outputs": [
        {
          "output_type": "stream",
          "name": "stdout",
          "text": [
            "[10, 10, 10, 10, 10, 10, 10, 10, 10, 10]\n"
          ]
        }
      ]
    },
    {
      "cell_type": "code",
      "metadata": {
        "id": "51ShYBOCMIXc"
      },
      "source": [
        "# temp = []\n",
        "# for i in range(100):\n",
        "#     for j in range(128):\n",
        "#         print(i, j)\n",
        "#         temp.append(x[i][j])\n",
        "\n",
        "#     x[i] = temp\n",
        "#     temp = []"
      ],
      "execution_count": null,
      "outputs": []
    },
    {
      "cell_type": "code",
      "metadata": {
        "colab": {
          "base_uri": "https://localhost:8080/"
        },
        "id": "HWISYIWCMeP5",
        "outputId": "5ee2f487-4207-43c0-c9e4-8dc25200ee0d"
      },
      "source": [
        "# print(len(x))"
      ],
      "execution_count": null,
      "outputs": [
        {
          "output_type": "stream",
          "name": "stdout",
          "text": [
            "100\n"
          ]
        }
      ]
    },
    {
      "cell_type": "code",
      "metadata": {
        "id": "bRd8QN1WSAoy"
      },
      "source": [
        "# x = StandardScaler().fit_transform(x)"
      ],
      "execution_count": null,
      "outputs": []
    },
    {
      "cell_type": "code",
      "metadata": {
        "colab": {
          "base_uri": "https://localhost:8080/"
        },
        "id": "Y53tT8fJI9eq",
        "outputId": "48ee7e2d-e5d2-4f4e-9981-a331a716e335"
      },
      "source": [
        "# #### PCA\n",
        "# # pca = PCA(n_components=2)\n",
        "# # principalComponents = pca.fit_transform(x)\n",
        "# # principalDf = pd.DataFrame(data = principalComponents\n",
        "# #              , columns = ['principal component 1', 'principal component 2'])\n",
        "# # fig = plt.figure(figsize = (8,8))\n",
        "# # ax = fig.add_subplot(1,1,1) \n",
        "# # #plt.ylim([-30,30])\n",
        "# # ax.set_xlabel('Principal Component 1', fontsize = 15)\n",
        "# # ax.set_ylabel('Principal Component 2', fontsize = 15)\n",
        "# # ax.set_title('PCA Output', fontsize = 20)\n",
        "# # colors = ['r', 'g', 'b','c','m','y','k','gold','grey','purple']\n",
        "# # k=[0,2,6,8,9]\n",
        "# # x = 10\n",
        "# # for i in range(10):\n",
        "# #     ax.scatter(principalDf.loc[range((i*x),((i*x)+x)), 'principal component 1']\n",
        "# #                , principalDf.loc[range((i*x),((i*x)+x)), 'principal component 2']\n",
        "# #                , c = colors[i]\n",
        "# #                , s = 50)\n",
        "# # #ax.legend(targets)\n",
        "# # ax.grid()\n",
        "\n",
        "\n",
        "# #### TSNE\n",
        "# principalComponents = TSNE(n_components=2, learning_rate='auto', init='random').fit_transform(x)\n",
        "# principalDf = pd.DataFrame(data = principalComponents\n",
        "#              , columns = ['principal component 1', 'principal component 2'])\n",
        "# fig = plt.figure(figsize = (8,8))\n",
        "# ax = fig.add_subplot(1,1,1) \n",
        "\n",
        "# #plt.ylim([-30,30])\n",
        "\n",
        "# ax.set_xlabel('Principal Component 1', fontsize = 15)\n",
        "# ax.set_ylabel('Principal Component 2', fontsize = 15)\n",
        "# ax.set_title('TSNE Output', fontsize = 20)\n",
        "# colors = ['r', 'g', 'b','c','m','y','k','gold','grey','purple']\n",
        "# k=[0,2,6,8,9]\n",
        "# x = 10\n",
        "# for i in range(10):\n",
        "#     ax.scatter(principalDf.loc[range((i*x),((i*x)+x)), 'principal component 1']\n",
        "#                , principalDf.loc[range((i*x),((i*x)+x)), 'principal component 2']\n",
        "#                , c = colors[i]\n",
        "#                , s = 50)\n",
        "\n",
        "# #ax.legend(targets)\n",
        "# ax.grid()"
      ],
      "execution_count": null,
      "outputs": [
        {
          "output_type": "display_data",
          "data": {
            "image/png": "[encoded data removed]",
            "text/plain": [
              "<Figure size 576x576 with 1 Axes>"
            ]
          },
          "metadata": {
            "needs_background": "light"
          }
        }
      ]
    },
    {
      "cell_type": "markdown",
      "metadata": {
        "id": "I9-0nQIMdZM1"
      },
      "source": [
        "# Training\n",
        "**torch.autograd.set_detect_anomaly(True)** was used to trace what part of the code was causing there to be Nan values.\n",
        "\n",
        "**Error was traced to be:** RuntimeError: Function 'PowBackward0' returned nan values in its 0th output.\n",
        "\n",
        "This error occurred even after we changed the model from ResNet to AlexNet. "
      ]
    },
    {
      "cell_type": "code",
      "metadata": {
        "id": "Uxlu82mXtl0v"
      },
      "source": [
        "torch.autograd.set_detect_anomaly(True)\n",
        "train_model(model, train_dataloader, loss_fn, optimizer, lambd=5*1e-3, num_epochs=50) #labmd = 5*1e-3"
      ],
      "execution_count": null,
      "outputs": []
    },
    {
      "cell_type": "code",
      "metadata": {
        "id": "uWe0l277Uv68"
      },
      "source": [
        "torch.save(model_ft.state_dict(), '/content/drive/MyDrive/data/weights_stl10_alexnet_self_supervised.pth')"
      ],
      "execution_count": null,
      "outputs": []
    }
  ]
}